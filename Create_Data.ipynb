{
 "cells": [
  {
   "attachments": {},
   "cell_type": "markdown",
   "metadata": {},
   "source": [
    "### Chuyển vi-vocab của java thành file text"
   ]
  },
  {
   "cell_type": "code",
   "execution_count": null,
   "metadata": {},
   "outputs": [],
   "source": [
    "import codecs\n",
    "import re\n",
    "\n",
    "def read_binary_file(filename):\n",
    "    # Đọc nội dung của tệp bin\n",
    "    with open(filename, 'rb') as f:\n",
    "        content = f.read()\n",
    "\n",
    "    # Giải mã các byte dữ liệu thành chuỗi Unicode\n",
    "    decoded_content = codecs.decode(content, 'utf-8', 'backslashreplace') # các ký tự đặc biết thành ?\n",
    "\n",
    "    # Loại bỏ các ký tự không phải Unicode khỏi chuỗi\n",
    "    contents = [c if c.isprintable() else '@' for c in decoded_content]\n",
    "    filtered_content = ''.join(contents)\n",
    "    ls = re.split(r'(t@)', filtered_content)\n",
    "    # lọc bỏ các 't@\n",
    "    result = [x[1:] for x in ls if x != 't@']\n",
    "    return result[1:]\n",
    "\n",
    "data = read_binary_file('data/vi-vocab')\n",
    "# sắp lại theo độ dài (số lượng từ) từ dài đến ngắn, từ A đến Z trong cùng độ dài\n",
    "data.sort(key=lambda x: (-len(x.split()), x))\n",
    "# ghi ra file\n",
    "with open('data/vi-vocab.txt', 'w', encoding='utf-8') as f:\n",
    "    for item in data:\n",
    "        f.write(\"%s\\n\" % item)"
   ]
  },
  {
   "attachments": {},
   "cell_type": "markdown",
   "metadata": {},
   "source": [
    "### Chuyển từ điển json sang text"
   ]
  },
  {
   "cell_type": "code",
   "execution_count": 8,
   "metadata": {},
   "outputs": [
    {
     "name": "stdout",
     "output_type": "stream",
     "text": [
      "66767\n"
     ]
    }
   ],
   "source": [
    "import re\n",
    "\n",
    "data = []\n",
    "with open('data/Viet74K.txt', 'r') as file:\n",
    "    for line in file:\n",
    "        line = line.replace(',', ' , ')\n",
    "        line = re.sub(r'\\s+', ' ', line)\n",
    "        line = line.lower().strip()\n",
    "        if '-' in line:\n",
    "            data.append(line.replace('-', ' '))\n",
    "        data.append(line)\n",
    "data= list(set(data))\n",
    "# sắp lại theo độ dài (số lượng từ) từ dài đến ngắn, từ A đến Z trong cùng độ dài\n",
    "data.sort(key=lambda x: (-len(re.split(r'\\s|\\-',x)), x))\n",
    "# loại bỏ các từ không có dấu cách\n",
    "data = [x for x in data if len(re.split(r'\\s|\\-',x)) > 1]\n",
    "\n",
    "with open('data/dic.txt', 'w', encoding='utf-8') as f:\n",
    "    for item in data:\n",
    "        f.write(\"%s\\n\" % item)\n",
    "\n",
    "print(len(data))"
   ]
  },
  {
   "attachments": {},
   "cell_type": "markdown",
   "metadata": {},
   "source": [
    "### Tổng hợp từ từ file csv\n"
   ]
  },
  {
   "cell_type": "code",
   "execution_count": 2,
   "metadata": {},
   "outputs": [
    {
     "name": "stdout",
     "output_type": "stream",
     "text": [
      "75556\n"
     ]
    }
   ],
   "source": [
    "import os\n",
    "import re\n",
    "\n",
    "def getFiles(folder):\n",
    "    files = []\n",
    "    for file in os.listdir(folder):\n",
    "        if file.endswith(\".csv\"):\n",
    "            files.append(os.path.join(folder, file))\n",
    "    return files\n",
    "\n",
    "def getFilesData(files):\n",
    "    data = []\n",
    "    for file in files:\n",
    "        with open(file, 'r', encoding='utf-8') as f:\n",
    "            for line in f:\n",
    "                words = [x for x in line.split(',')]                \n",
    "                data += words\n",
    "    return data\n",
    "\n",
    "data = getFilesData(getFiles('data\\\\words'))\n",
    "\n",
    "data= list(set(data))\n",
    "data = [re.sub(r'[^\\w]+', ' ', x).strip().lower() for x in data]\n",
    "# sắp lại theo độ dài (số lượng từ) từ dài đến ngắn, từ A đến Z trong cùng độ dài\n",
    "data.sort(key=lambda x: (-len(re.split(r'\\s|\\-',x)), x))\n",
    "# loại bỏ các từ không có dấu cách\n",
    "data = [x for x in data if len(re.split(r'\\s|\\-',x)) > 1]\n",
    "\n",
    "with open('data/dic2.txt', 'w', encoding='utf-8') as f:\n",
    "    for item in data:\n",
    "        f.write(\"%s\\n\" % item)\n",
    "\n",
    "print(len(data))"
   ]
  },
  {
   "attachments": {},
   "cell_type": "markdown",
   "metadata": {},
   "source": [
    "### Tổng hợp"
   ]
  },
  {
   "cell_type": "code",
   "execution_count": 3,
   "metadata": {},
   "outputs": [
    {
     "name": "stdout",
     "output_type": "stream",
     "text": [
      "112342\n"
     ]
    }
   ],
   "source": [
    "# Kết hợp 2 file dic.txt và dic2.txt\n",
    "data = []\n",
    "with open('data/dic.txt', 'r', encoding='utf-8') as f:\n",
    "    for line in f:\n",
    "        data.append(line.strip())\n",
    "with open('data/dic2.txt', 'r', encoding='utf-8') as f:\n",
    "    for line in f:\n",
    "        data.append(line.strip())\n",
    "\n",
    "data= list(set(data))\n",
    "data.sort(key=lambda x: (-len(re.split(r'\\s|\\-',x)), x))\n",
    "\n",
    "with open('data/dic3.txt', 'w', encoding='utf-8') as f:\n",
    "    for item in data:\n",
    "        f.write(\"%s\\n\" % item)\n",
    "\n",
    "print(len(data))"
   ]
  },
  {
   "attachments": {},
   "cell_type": "markdown",
   "metadata": {},
   "source": [
    "### Tạo Stopword\n",
    "Code này copy bên file [Text classification.ipynb](Text%20classification.ipynb) qua, nên nếu muốn chạy thì copy qua bên đó , chỗ stopword thì và chạy lại"
   ]
  },
  {
   "cell_type": "code",
   "execution_count": null,
   "metadata": {},
   "outputs": [],
   "source": [
    "from tqdm import tqdm\n",
    "# Hàm word count\n",
    "def word_count(lines):\n",
    "    word_count = defaultdict(int)\n",
    "    counter = 0\n",
    "    for i in (pbar := tqdm(range(len(lines)))):\n",
    "        document = lines[i]\n",
    "        # chuẩn hóa cách gõ dấu tiếng Việt\n",
    "        document = vietnameseTextNormalizer(document)\n",
    "        # tách từ\n",
    "        document = tokenize_sentences(document)\n",
    "        # đưa về lower\n",
    "        document = document.lower()\n",
    "        # xóa các ký tự không cần thiết\n",
    "        document = re.sub(r'[^\\s\\wáàảãạăắằẳẵặâấầẩẫậéèẻẽẹêếềểễệóòỏõọôốồổỗộơớờởỡợíìỉĩịúùủũụưứừửữựýỳỷỹỵđ_]',' ',document)\n",
    "        # xóa khoảng trắng thừa\n",
    "        document = re.sub(r'\\s+', ' ', document).strip()\n",
    "        for word in document.split():\n",
    "            word_count[word] += 1\n",
    "            counter += 1\n",
    "         # Bổ sung thông tin vào thanh tiến trình của tqdm\n",
    "        pbar.set_description(f\"words:{counter}\")\n",
    "    return word_count\n",
    "\n",
    "# Tạo word count cho tập train + test\n",
    "word_count_result = word_count([x[0] for x in train_data + test_data])"
   ]
  },
  {
   "cell_type": "code",
   "execution_count": null,
   "metadata": {},
   "outputs": [],
   "source": [
    "# xoá phần tử không phải văn bản\n",
    "word_count_OK = {k: v for k, v in word_count_result.items() if k.isnumeric() == False}\n",
    "# in 100 từ xuất hiện nhiều nhất\n",
    "sorted(word_count_OK.items(), key=lambda x: x[1], reverse=True)[:200]"
   ]
  }
 ],
 "metadata": {
  "kernelspec": {
   "display_name": "OpenCV",
   "language": "python",
   "name": "python3"
  },
  "language_info": {
   "codemirror_mode": {
    "name": "ipython",
    "version": 3
   },
   "file_extension": ".py",
   "mimetype": "text/x-python",
   "name": "python",
   "nbconvert_exporter": "python",
   "pygments_lexer": "ipython3",
   "version": "3.9.16"
  },
  "orig_nbformat": 4
 },
 "nbformat": 4,
 "nbformat_minor": 2
}
