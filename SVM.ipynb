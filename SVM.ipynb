{
 "cells": [
  {
   "cell_type": "code",
   "execution_count": 1,
   "metadata": {},
   "outputs": [],
   "source": [
    "# load lại dữ liệu đã xử lý\n",
    "import pickle\n",
    "with open('train_data.pkl', 'rb') as f:\n",
    "    train_data = pickle.load(f)\n",
    "with open('test_data.pkl', 'rb') as f:\n",
    "    test_data = pickle.load(f)"
   ]
  },
  {
   "cell_type": "code",
   "execution_count": 2,
   "metadata": {},
   "outputs": [
    {
     "data": {
      "text/plain": [
       "['DS', 'KD', 'KH', 'PL', 'SK', 'TG', 'TT', 'VH', 'VT', 'XH']"
      ]
     },
     "execution_count": 2,
     "metadata": {},
     "output_type": "execute_result"
    }
   ],
   "source": [
    "labels = [x[1] for x in train_data]\n",
    "labels = list(sorted(set(labels)))\n",
    "labels"
   ]
  },
  {
   "cell_type": "code",
   "execution_count": 3,
   "metadata": {},
   "outputs": [
    {
     "name": "stdout",
     "output_type": "stream",
     "text": [
      "Đời sống, Kinh doanh, Khoa học, Pháp luật, Sức khoẻ, Thế giới, Thể thao, Văn hoá, Vi tính, Chính trị xã hội\n"
     ]
    }
   ],
   "source": [
    "label_dict={'XH':(0,'Chính trị xã hội'), \n",
    "            'DS':(1,'Đời sống'), \n",
    "            'KH':(2,'Khoa học'), \n",
    "            'KD':(3,'Kinh doanh'), \n",
    "            'PL':(4,'Pháp luật'), \n",
    "            'SK':(5,'Sức khoẻ'), \n",
    "            'TG':(6,'Thế giới'), \n",
    "            'TT':(7,'Thể thao'), \n",
    "            'VH':(8,'Văn hoá'), \n",
    "            'VT':(9,'Vi tính') }\n",
    "print(*[label_dict[x][1] for x in labels], sep = ', ')"
   ]
  },
  {
   "cell_type": "code",
   "execution_count": 4,
   "metadata": {},
   "outputs": [
    {
     "name": "stdout",
     "output_type": "stream",
     "text": [
      "33759 33759 50373 50373\n",
      "justin timberlake cảnh_báo britney thông_báo britney spears kevin ferderline đám_cưới người_yêu cũ công_chúa nhạc_pop khuyên từ_bỏ ý_định justin brit mắc sai_lầm lớn_nhất cuộc_đời kevin không_đáng_tin anh_ta con_riêng brit kerri whittington người_tình cũ kevin đổ dầu nhận_xét chàng vũ_công chuyên_nghiệp không_đứng_đắn tán_tỉnh cô_gái xung_quanh anh_ta anh_ta brit leo chạy_theo ả tóc vàng anh_ta đấy lời_ong_tiếng_ve brit hứa cẩn_thận tuyên_bố lập_trường ca_sĩ nghĩ_được đám_cưới người_yêu người_đẹp hôn_nhân vĩnh_hằng gió thoảng_qua trường_hợp kết_hôn jason alexander\n",
      "8\n"
     ]
    }
   ],
   "source": [
    "X_train = [x[0] for x in train_data]\n",
    "y_train = [label_dict[x[1]][0] for x in train_data]\n",
    "X_test = [x[0] for x in test_data]\n",
    "y_test = [label_dict[x[1]][0] for x in test_data]\n",
    "print(len(X_train), len(y_train), len(X_test), len(y_test))\n",
    "print(X_train[0])\n",
    "print(y_train[0])"
   ]
  },
  {
   "cell_type": "code",
   "execution_count": 5,
   "metadata": {},
   "outputs": [
    {
     "name": "stdout",
     "output_type": "stream",
     "text": [
      "Done training SVM in 1017.9762949943542 seconds.\n"
     ]
    }
   ],
   "source": [
    "import pickle\n",
    "import time\n",
    "from sklearn.feature_extraction.text import CountVectorizer\n",
    "from sklearn.feature_extraction.text import TfidfTransformer\n",
    "from sklearn.pipeline import Pipeline\n",
    "from sklearn.svm import SVC\n",
    "\n",
    "start_time = time.time()\n",
    "text_clf = Pipeline([('vect', CountVectorizer(ngram_range=(1,1),\n",
    "                                             max_df=0.8,\n",
    "                                             max_features=None)), \n",
    "                     ('tfidf', TfidfTransformer()),\n",
    "                     ('clf', SVC(gamma='scale'))\n",
    "                    ])\n",
    "text_clf = text_clf.fit(X_train, y_train)\n",
    " \n",
    "train_time = time.time() - start_time\n",
    "print('Done training SVM in', train_time, 'seconds.')\n",
    " \n",
    "# Save model\n",
    "pickle.dump(text_clf, open( \"svm.pkl\", 'wb'))"
   ]
  },
  {
   "cell_type": "code",
   "execution_count": 5,
   "metadata": {},
   "outputs": [
    {
     "name": "stdout",
     "output_type": "stream",
     "text": [
      "0.9197387489329601\n",
      "                  precision    recall  f1-score   support\n",
      "\n",
      "        Đời sống       0.83      0.92      0.87      7567\n",
      "      Kinh doanh       0.77      0.72      0.74      2036\n",
      "        Khoa học       0.88      0.78      0.83      2096\n",
      "       Pháp luật       0.95      0.87      0.91      5276\n",
      "        Sức khoẻ       0.94      0.90      0.92      3788\n",
      "        Thế giới       0.93      0.95      0.94      5417\n",
      "        Thể thao       0.96      0.93      0.95      6716\n",
      "         Văn hoá       0.98      0.98      0.98      6667\n",
      "         Vi tính       0.94      0.95      0.94      6250\n",
      "Chính trị xã hội       0.93      0.96      0.95      4560\n",
      "\n",
      "        accuracy                           0.92     50373\n",
      "       macro avg       0.91      0.90      0.90     50373\n",
      "    weighted avg       0.92      0.92      0.92     50373\n",
      "\n"
     ]
    }
   ],
   "source": [
    "# Load model\n",
    "text_clf = pickle.load(open(\"svm.pkl\", 'rb'))\n",
    "# Đánh giá mô hình\n",
    "import numpy as np\n",
    "predicted = text_clf.predict(X_test)\n",
    "print(np.mean(predicted == y_test))\n",
    "\n",
    "from sklearn.metrics import classification_report\n",
    "print(classification_report(y_test, predicted, target_names=[label_dict[x][1] for x in labels]))\n"
   ]
  }
 ],
 "metadata": {
  "kernelspec": {
   "display_name": "Tensor",
   "language": "python",
   "name": "python3"
  },
  "language_info": {
   "codemirror_mode": {
    "name": "ipython",
    "version": 3
   },
   "file_extension": ".py",
   "mimetype": "text/x-python",
   "name": "python",
   "nbconvert_exporter": "python",
   "pygments_lexer": "ipython3",
   "version": "3.9.16"
  },
  "orig_nbformat": 4
 },
 "nbformat": 4,
 "nbformat_minor": 2
}
