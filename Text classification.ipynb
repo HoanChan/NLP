{
 "cells": [
  {
   "attachments": {},
   "cell_type": "markdown",
   "metadata": {},
   "source": [
    "### Bài toán\n",
    "\n",
    "Các khó khăn gặp phải khi xây dựng mô hình phân loại văn bản tiếng Việt:\n",
    "\n",
    "1. Việc tách từ tiếng Việt khá là phức tạp do có nhiều từ và cụm từ ghép lại với nhau, nhiều từ không có trong từ điển.\n",
    "2. Việc tìm được bộ từ điển tương đối đầy đủ khá khó khăn do tiếng Việt có nhiều từ ngữ cả trong lĩnh vực chuyên ngành và nhiều từ ngữ không có trong từ điển. Hiện tại mới chỉ tìm được một số ít từ phổ biến có trong các từ điển mở.\n",
    "3. Việc triển khai mô hình phân loại văn bản tiếng Việt khá là khó khăn do không có nhiều tài liệu tham khảo, đặc biệt là các tài liệu về xử lý ngôn ngữ tự nhiên tiếng Việt.\n",
    "4. Việc cài đặt môi trường lập trình cho Tensorflow cũng như pytorch gặp nhiều khó khăn khi cài đặt trên Windows, đặc biệt là khi sử dụng GPU.\n",
    "5. Việc chuẩn hoá văn bản tiếng Việt gặp rất nhiều thách thức về:\n",
    "    - Cách mã hoá văn bản Unicode\n",
    "    - Cách bỏ dấu tiếng Việt\n",
    "    - Xử lý sai chính tả\n",
    "    - Xử lý từ viết tắt\n",
    "    - Xử lý các từ ngữ không có trong từ điển\n",
    "7. Việc tách từ cũng gặp rất nhiều bất lợi\n",
    "    - Từ điển càng lớn thì việc tách từ càng chậm, đã thử nghiệm và tách từ mất 30p cho tập train.\n",
    "    - Tokenization phải đào tạo mô hình để thực hiện mới đem lại hiệu quả tốt. Đã thử nghiệm với các thư viện như pyvi, underthesea, vncorenlp, ... nhưng kết quả không tốt. Chậm quá\n",
    "6. Hiện chưa có bộ StopWords tiếng Việt tương đối đầy đủ, nên việc xử lý StopWords cũng gặp nhiều khó khăn do đa phần là tự tạo không theo một tiêu chuẩn nào cả.\n",
    "\n",
    "- Input: một đoạn văn bản\n",
    "- Output: một trong các nhãn sau: 'XH':'Chinh tri Xa hoi', \n",
    "            'DS':'Doi song', \n",
    "            'KH':'Khoa hoc', \n",
    "            'KD':'Kinh doanh', \n",
    "            'PL':'Phap luat', \n",
    "            'SK':'Suc khoe', \n",
    "            'TG':'The gioi', \n",
    "            'TT':'The thao', \n",
    "            'VH':'Van hoa', \n",
    "            'VT':'Vi tinh',\n",
    "\n"
   ]
  },
  {
   "attachments": {},
   "cell_type": "markdown",
   "metadata": {},
   "source": [
    "### Thu thập dữ liệu"
   ]
  },
  {
   "attachments": {},
   "cell_type": "markdown",
   "metadata": {},
   "source": [
    "\n",
    "Dữ liệu được lấy dừ https://github.com/duyvuleo/VNTC/tree/master/Data/10Topics/Ver1.1 với thông tin như sau:\n",
    "\n",
    "***Train***\n",
    "|Topic |\tTopic ID |\t#files |\n",
    "|--|--|--|\n",
    "| Chinh tri Xa hoi\t| XH |\t5219 |\n",
    "| Doi song\t| DS |\t\t3159 |\n",
    "| Khoa hoc\t| KH |\t\t1820 |\n",
    "| Kinh doanh\t| KD |\t\t2552 |\n",
    "| Phap luat\t| PL |\t\t3868 |\n",
    "| Suc khoe\t| SK |\t\t3384 |\n",
    "| The gioi\t| TG |\t\t2898 |\n",
    "| The thao\t| TT |\t\t5298 |\n",
    "| Van hoa \t| VH |\t\t3080 |\n",
    "| Vi tinh\t\t| VT |\t\t2481 |\n",
    "\n",
    "Total\t\t\t\t33759\n",
    "\n",
    "***Test***\n",
    "|Topic |\tTopic ID |\t#files |\n",
    "|--|--|--|\n",
    "| Chinh tri Xa hoi\t| XH |\t7567 |\n",
    "| Doi song\t| DS |\t\t2036 |\n",
    "| Khoa hoc\t| KH |\t\t2096 |\n",
    "| Kinh doanh\t| KD |\t\t5276 |\n",
    "| Phap luat\t| PL |\t\t3788 |\n",
    "| Suc khoe\t| SK |\t\t5417 |\n",
    "| The gioi\t| TG |\t\t6716 |\n",
    "| The thao\t| TT |\t\t6667 |\n",
    "| Van hoa\t\t| VH |\t\t6250 |\n",
    "| Vi tinh\t\t| VT |\t\t4560 |\n",
    "\n",
    "Total\t\t\t\t50373\n",
    "\n",
    "Tên file được đặt cào từ:\n",
    "\n",
    "+ DS_VNE_(...) : VnExpress news agency (http://vnexpress.net/)\n",
    "+ DS_TT_(...):  Youth news agency (http://tuoitre.vn/)\n",
    "+ DS_TN_(...): Thanh Nien news agency (http://thanhnien.vn/)\n",
    "+ DS_NLD_(...): Nguoi Lao Dong news agency (http://nld.com.vn/)\n",
    "\n",
    "File zip chứa toàn bộ file, tên mỗi file là Nhãn_Báo_ (STT).txt VD: XH_NLD_ (3675).txt"
   ]
  },
  {
   "cell_type": "code",
   "execution_count": 28,
   "metadata": {},
   "outputs": [],
   "source": [
    "import zipfile\n",
    "\n",
    "def extract_data_from_zip(zip_file_path):\n",
    "    result = []\n",
    "    with zipfile.ZipFile(zip_file_path, 'r') as zip_ref:\n",
    "        file_list = zip_ref.namelist()  # Lấy danh sách tên các file trong zip\n",
    "\n",
    "        for file_name in file_list:\n",
    "            if file_name.endswith('.txt'):  # Chỉ xử lý các file có đuôi .txt\n",
    "                with zip_ref.open(file_name) as file:\n",
    "                    data = file.read().decode('utf-16-le')  # Nó được mã hoá bằng utf-16-le\n",
    "                    # nội dung file có dạng \\ufeff<content>, đôi khi có dấu cách ở đầu và cuối\n",
    "                    content = data[1:].strip()\n",
    "                    words = content.split(' ')\n",
    "                    content = ' '.join(words)#(words[:min(len(words), 20)])\n",
    "                    label = file_name.split('/')[2].split('_')[0]\n",
    "                    result.append([content, label])\n",
    "    return result"
   ]
  },
  {
   "cell_type": "code",
   "execution_count": 29,
   "metadata": {},
   "outputs": [
    {
     "data": {
      "text/plain": [
       "33759"
      ]
     },
     "execution_count": 29,
     "metadata": {},
     "output_type": "execute_result"
    }
   ],
   "source": [
    "train_data = extract_data_from_zip('data/Train_Full.zip')\n",
    "len(train_data)"
   ]
  },
  {
   "cell_type": "code",
   "execution_count": 30,
   "metadata": {},
   "outputs": [
    {
     "data": {
      "text/plain": [
       "50373"
      ]
     },
     "execution_count": 30,
     "metadata": {},
     "output_type": "execute_result"
    }
   ],
   "source": [
    "test_data = extract_data_from_zip('data/Test_Full.zip')\n",
    "len(test_data)"
   ]
  },
  {
   "cell_type": "code",
   "execution_count": 31,
   "metadata": {},
   "outputs": [
    {
     "data": {
      "text/plain": [
       "{'DS', 'KD', 'KH', 'PL', 'SK', 'TG', 'TT', 'VH', 'VT', 'XH'}"
      ]
     },
     "execution_count": 31,
     "metadata": {},
     "output_type": "execute_result"
    }
   ],
   "source": [
    "labels = [x[1] for x in train_data]\n",
    "labels = set(labels)\n",
    "labels"
   ]
  },
  {
   "cell_type": "code",
   "execution_count": 32,
   "metadata": {},
   "outputs": [
    {
     "name": "stdout",
     "output_type": "stream",
     "text": [
      "Doi song, Chinh tri Xa hoi, Van hoa, Vi tinh, The gioi, Khoa hoc, The thao, Phap luat, Suc khoe, Kinh doanh\n"
     ]
    }
   ],
   "source": [
    "label_dict={'XH':(0,'Chinh tri Xa hoi'), \n",
    "            'DS':(1,'Doi song'), \n",
    "            'KH':(2,'Khoa hoc'), \n",
    "            'KD':(3,'Kinh doanh'), \n",
    "            'PL':(4,'Phap luat'), \n",
    "            'SK':(5,'Suc khoe'), \n",
    "            'TG':(6,'The gioi'), \n",
    "            'TT':(7,'The thao'), \n",
    "            'VH':(8,'Van hoa'), \n",
    "            'VT':(9,'Vi tinh') }\n",
    "print(*[label_dict[x][1] for x in labels], sep = ', ')"
   ]
  },
  {
   "attachments": {},
   "cell_type": "markdown",
   "metadata": {},
   "source": [
    "### Tiền xử lý dữ liệu"
   ]
  },
  {
   "attachments": {},
   "cell_type": "markdown",
   "metadata": {},
   "source": [
    "#### Xoá HTML\n",
    "\n",
    "Dữ liệu được thu thập từ các website đôi khi vẫn còn sót lại các đoạn mã HTML. Các mã HTML code này là rác, chẳng những không có tác dụng cho việc phân loại mà còn làm kết quả phân loại văn bản bị kém đi. Do đó, cần phải loại bỏ các đoạn mã HTML này."
   ]
  },
  {
   "cell_type": "code",
   "execution_count": 33,
   "metadata": {},
   "outputs": [
    {
     "data": {
      "text/plain": [
       "' This is an example nè'"
      ]
     },
     "execution_count": 33,
     "metadata": {},
     "output_type": "execute_result"
    }
   ],
   "source": [
    "import re\n",
    "def remove_html(txt):\n",
    "    return re.sub(r'<[^>]*>', ' ', txt)\n",
    "\n",
    "txt = \"<p class=\\\"par\\\">This is an example</p>nè\"\n",
    "remove_html(txt)"
   ]
  },
  {
   "attachments": {},
   "cell_type": "markdown",
   "metadata": {},
   "source": [
    "#### Chuẩn hoá Tiếng Việt\n",
    "\n",
    "- **Chuẩn hoá Unicode**: Hiện nay, có 2 loại mã Unicode được sử dụng phổ biến, Unicode tổ hợp và Unicode dựng sẵn. Hướng xử lý: Đưa về 1 chuẩn Unicode dựng sẵn (thằng này phổ biến hơn)\n",
    "- **Chuẩn hoán cách bỏ dấu**: Chuyển câu văn về cách gõ dấu kiểu cũ: dùng òa úy thay oà uý"
   ]
  },
  {
   "cell_type": "code",
   "execution_count": 34,
   "metadata": {},
   "outputs": [
    {
     "name": "stdout",
     "output_type": "stream",
     "text": [
      "False False False True\n",
      "True True True True\n"
     ]
    }
   ],
   "source": [
    "import re\n",
    "\n",
    "uniChars = \"àáảãạâầấẩẫậăằắẳẵặèéẻẽẹêềếểễệđìíỉĩịòóỏõọôồốổỗộơờớởỡợùúủũụưừứửữựỳýỷỹỵÀÁẢÃẠÂẦẤẨẪẬĂẰẮẲẴẶÈÉẺẼẸÊỀẾỂỄỆĐÌÍỈĨỊÒÓỎÕỌÔỒỐỔỖỘƠỜỚỞỠỢÙÚỦŨỤƯỪỨỬỮỰỲÝỶỸỴÂĂĐÔƠƯ\"\n",
    "unsignChars = \"aaaaaaaaaaaaaaaaaeeeeeeeeeeediiiiiooooooooooooooooouuuuuuuuuuuyyyyyAAAAAAAAAAAAAAAAAEEEEEEEEEEEDIIIOOOOOOOOOOOOOOOOOOOUUUUUUUUUUUYYYYYAADOOU\"\n",
    "\n",
    "\n",
    "def loaddicchar():\n",
    "    dic = {}\n",
    "    char1252 = 'à|á|ả|ã|ạ|ầ|ấ|ẩ|ẫ|ậ|ằ|ắ|ẳ|ẵ|ặ|è|é|ẻ|ẽ|ẹ|ề|ế|ể|ễ|ệ|ì|í|ỉ|ĩ|ị|ò|ó|ỏ|õ|ọ|ồ|ố|ổ|ỗ|ộ|ờ|ớ|ở|ỡ|ợ|ù|ú|ủ|ũ|ụ|ừ|ứ|ử|ữ|ự|ỳ|ý|ỷ|ỹ|ỵ|À|Á|Ả|Ã|Ạ|Ầ|Ấ|Ẩ|Ẫ|Ậ|Ằ|Ắ|Ẳ|Ẵ|Ặ|È|É|Ẻ|Ẽ|Ẹ|Ề|Ế|Ể|Ễ|Ệ|Ì|Í|Ỉ|Ĩ|Ị|Ò|Ó|Ỏ|Õ|Ọ|Ồ|Ố|Ổ|Ỗ|Ộ|Ờ|Ớ|Ở|Ỡ|Ợ|Ù|Ú|Ủ|Ũ|Ụ|Ừ|Ứ|Ử|Ữ|Ự|Ỳ|Ý|Ỷ|Ỹ|Ỵ'.split(\n",
    "        '|')\n",
    "    charutf8 = \"à|á|ả|ã|ạ|ầ|ấ|ẩ|ẫ|ậ|ằ|ắ|ẳ|ẵ|ặ|è|é|ẻ|ẽ|ẹ|ề|ế|ể|ễ|ệ|ì|í|ỉ|ĩ|ị|ò|ó|ỏ|õ|ọ|ồ|ố|ổ|ỗ|ộ|ờ|ớ|ở|ỡ|ợ|ù|ú|ủ|ũ|ụ|ừ|ứ|ử|ữ|ự|ỳ|ý|ỷ|ỹ|ỵ|À|Á|Ả|Ã|Ạ|Ầ|Ấ|Ẩ|Ẫ|Ậ|Ằ|Ắ|Ẳ|Ẵ|Ặ|È|É|Ẻ|Ẽ|Ẹ|Ề|Ế|Ể|Ễ|Ệ|Ì|Í|Ỉ|Ĩ|Ị|Ò|Ó|Ỏ|Õ|Ọ|Ồ|Ố|Ổ|Ỗ|Ộ|Ờ|Ớ|Ở|Ỡ|Ợ|Ù|Ú|Ủ|Ũ|Ụ|Ừ|Ứ|Ử|Ữ|Ự|Ỳ|Ý|Ỷ|Ỹ|Ỵ\".split(\n",
    "        '|')\n",
    "    for i in range(len(char1252)):\n",
    "        dic[char1252[i]] = charutf8[i]\n",
    "    return dic\n",
    "\n",
    "dicchar = loaddicchar()\n",
    "\n",
    "def convert_unicode(txt):\n",
    "    return re.sub(\n",
    "        r'à|á|ả|ã|ạ|ầ|ấ|ẩ|ẫ|ậ|ằ|ắ|ẳ|ẵ|ặ|è|é|ẻ|ẽ|ẹ|ề|ế|ể|ễ|ệ|ì|í|ỉ|ĩ|ị|ò|ó|ỏ|õ|ọ|ồ|ố|ổ|ỗ|ộ|ờ|ớ|ở|ỡ|ợ|ù|ú|ủ|ũ|ụ|ừ|ứ|ử|ữ|ự|ỳ|ý|ỷ|ỹ|ỵ|À|Á|Ả|Ã|Ạ|Ầ|Ấ|Ẩ|Ẫ|Ậ|Ằ|Ắ|Ẳ|Ẵ|Ặ|È|É|Ẻ|Ẽ|Ẹ|Ề|Ế|Ể|Ễ|Ệ|Ì|Í|Ỉ|Ĩ|Ị|Ò|Ó|Ỏ|Õ|Ọ|Ồ|Ố|Ổ|Ỗ|Ộ|Ờ|Ớ|Ở|Ỡ|Ợ|Ù|Ú|Ủ|Ũ|Ụ|Ừ|Ứ|Ử|Ữ|Ự|Ỳ|Ý|Ỷ|Ỹ|Ỵ',\n",
    "        lambda x: dicchar[x.group()], txt)\n",
    "    \n",
    "dict_map = {\"òa\": \"oà\", \"Òa\": \"Oà\", \"ÒA\": \"OÀ\", \"óa\": \"oá\", \"Óa\": \"Oá\", \"ÓA\": \"OÁ\", \"ỏa\": \"oả\", \"Ỏa\": \"Oả\", \"ỎA\": \"OẢ\", \"õa\": \"oã\", \"Õa\": \"Oã\", \"ÕA\": \"OÃ\", \"ọa\": \"oạ\", \"Ọa\": \"Oạ\", \"ỌA\": \"OẠ\", \"òe\": \"oè\", \"Òe\": \"Oè\", \"ÒE\": \"OÈ\", \"óe\": \"oé\", \"Óe\": \"Oé\", \"ÓE\": \"OÉ\", \"ỏe\": \"oẻ\", \"Ỏe\": \"Oẻ\", \"ỎE\": \"OẺ\", \"õe\": \"oẽ\", \"Õe\": \"Oẽ\", \"ÕE\": \"OẼ\", \"ọe\": \"oẹ\", \"Ọe\": \"Oẹ\", \"ỌE\": \"OẸ\", \"ùy\": \"uỳ\", \"Ùy\": \"Uỳ\", \"ÙY\": \"UỲ\", \"úy\": \"uý\", \"Úy\": \"Uý\", \"ÚY\": \"UÝ\", \"ủy\": \"uỷ\", \"Ủy\": \"Uỷ\", \"ỦY\": \"UỶ\", \"ũy\": \"uỹ\", \"Ũy\": \"Uỹ\", \"ŨY\": \"UỸ\", \"ụy\": \"uỵ\", \"Ụy\": \"Uỵ\", \"ỤY\": \"UỴ\",}\n",
    "\n",
    "def replace_all(text, dict_map):\n",
    "    for i, j in dict_map.items():\n",
    "        text = text.replace(i, j)\n",
    "    return text\n",
    "def vietnameseTextNormalizer(sentence):\n",
    "    import unicodedata    \n",
    "    return replace_all(unicodedata.normalize('NFC', convert_unicode(sentence)), dict_map)\n",
    "\n",
    "str_utf8 = 'Anh Hòa, đang làm gì chị Thúy vậy, ăn qụyt phải không?' # Unicode (dựng sẵn - dấu theo ký tự)\n",
    "str_utf8_2 = 'Anh Hoà, đang làm gì chị Thuý vậy, ăn quỵt phải không?' # Unicode (dựng sẵn - dấu theo ký tự)\n",
    "str_com = 'Anh Hòa, đang làm gì chị Thúy vậy, ăn qụyt phải không?'  # Unicode composite (tổ hợp - dấu riêng)\n",
    "str_1252 = 'Anh Hòa, đang làm gì chị Thúy vậy, ăn qụyt phải không?' # Windows-1252 = Latin-1\n",
    "print(str_utf8 == str_utf8_2, str_utf8 == str_com, str_utf8 == str_1252, str_com == str_1252)\n",
    "str_utf8 = vietnameseTextNormalizer(str_utf8)\n",
    "str_utf8 = vietnameseTextNormalizer(str_utf8_2)\n",
    "str_com = vietnameseTextNormalizer(str_com)\n",
    "str_1252 = vietnameseTextNormalizer(str_1252)\n",
    "print(str_utf8 == str_utf8_2, str_utf8 == str_com, str_utf8 == str_1252, str_com == str_1252)"
   ]
  },
  {
   "attachments": {},
   "cell_type": "markdown",
   "metadata": {},
   "source": [
    "#### Tách từ\n",
    "\n",
    "File từ điển các từ và cụm từ được tổng hợp từ các nguồn sau:\n",
    "- Viet74K.txt: https://github.com/undertheseanlp/underthesea/tree/main/underthesea/corpus/data\n",
    "- words.txt: https://github.com/undertheseanlp/underthesea/tree/main/datasets/DI_Vietnamese-UVD/corpus/dictionary\n",
    "- vi-vocab: https://github.com/vncorenlp/VnCoreNLP/tree/master/models/wordsegmenter\n",
    "- Thư mục Words - Danh mục từ của wordnet: https://github.com/zeloru/vietnamese-wordnet/tree/master\n",
    "\n",
    "Sau đó được xử lý để tạo thành 1 file từ điển duy nhất tên là [dic3.txt](data/dic3.txt) nhờ code từ: [Create_Data.ipynb](Create_Data.ipynb)"
   ]
  },
  {
   "cell_type": "code",
   "execution_count": 35,
   "metadata": {},
   "outputs": [
    {
     "name": "stdout",
     "output_type": "stream",
     "text": [
      "Số lượng từ ghép và cụm từ trong vocab: 112343\n",
      "Số bộ vocab phân theo độ dài: 20\n"
     ]
    },
    {
     "data": {
      "text/plain": [
       "'nhưng sự_thực_hiện vẫn_còn chưa phù_hợp'"
      ]
     },
     "execution_count": 35,
     "metadata": {},
     "output_type": "execute_result"
    }
   ],
   "source": [
    "from collections import defaultdict\n",
    "import re\n",
    "\n",
    "def syllablize(sentence): # Tách âm tiết cho một câu tiếng Việt\n",
    "    word = '\\w+'\n",
    "    non_word = '[^\\w\\s]'\n",
    "    digits = '\\d+([\\.,_]\\d+)+'\n",
    "    \n",
    "    patterns = []\n",
    "    patterns.extend([word, non_word, digits])\n",
    "    patterns = f\"({'|'.join(patterns)})\"\n",
    "    \n",
    "    tokens = re.findall(patterns, sentence, re.UNICODE)\n",
    "    return [token[0] for token in tokens]\n",
    "\n",
    "# Tải từ trong vi-vocab.txt\n",
    "with open('data/dic3.txt', encoding='utf8') as f:\n",
    "    vocab = f.read().split('\\n')\n",
    "# Xây dựng từ điển vocabs theo độ dài từ\n",
    "vocabs = defaultdict(dict) # dùng list chậm hơn so với dict khoảng 25 lần\n",
    "for word in vocab:\n",
    "    vocabs[len(word.split())][word.lower()] = True\n",
    "\n",
    "print('Số lượng từ ghép và cụm từ trong vocab:', len(vocab))\n",
    "print('Số bộ vocab phân theo độ dài:', len(vocabs))\n",
    "\n",
    "def longest_matching(sentence, vocabs):\n",
    "  words = syllablize(sentence) # tách âm tiết cho câu\n",
    "  result = []\n",
    "  i = len(words)-1 # index của từ hiện tại\n",
    "  while i > -1: \n",
    "    word = '' \n",
    "    # tìm kiếm trong từ điển theo chiều dài của từ ưu tiên từ dài trước\n",
    "    for j in range(max(i-8,0), i+1):\n",
    "      ls_word = words[j:i+1]\n",
    "      word = ' '.join(ls_word)\n",
    "      # xem thử có trong từ điển không\n",
    "      if word.lower() in vocabs.get(i-j+1, []):\n",
    "        i = j\n",
    "        break\n",
    "    result.append(word)\n",
    "    i-=1\n",
    "  return result[::-1] # return the final list\n",
    "\n",
    "def tokenize_sentences(sentence):\n",
    "    return ' '.join([x.replace(' ','_') for x in longest_matching(sentence, vocabs)])\n",
    "\n",
    "tokenize_sentences('nhưng sự thực hiện vẫn còn chưa phù hợp')"
   ]
  },
  {
   "attachments": {},
   "cell_type": "markdown",
   "metadata": {},
   "source": [
    "#### Hoàn thiện tiền xử lý"
   ]
  },
  {
   "cell_type": "code",
   "execution_count": 36,
   "metadata": {},
   "outputs": [
    {
     "data": {
      "text/plain": [
       "'têu đề bài_báo có_vẻ_như anh hoà đang làm_gì đó với chị thuý vậy có_thể_là ăn_quỵt có_phải không'"
      ]
     },
     "execution_count": 36,
     "metadata": {},
     "output_type": "execute_result"
    }
   ],
   "source": [
    "def text_preprocess(document):\n",
    "    # xóa html code\n",
    "    document = remove_html(document)\n",
    "    # chuẩn hóa unicode\n",
    "    document = convert_unicode(document)\n",
    "    # chuẩn hóa cách gõ dấu tiếng Việt\n",
    "    document = vietnameseTextNormalizer(document)\n",
    "    # tách từ\n",
    "    document = tokenize_sentences(document)\n",
    "    # đưa về lower\n",
    "    document = document.lower()\n",
    "    # xóa các ký tự không cần thiết\n",
    "    document = re.sub(r'[^\\s\\wáàảãạăắằẳẵặâấầẩẫậéèẻẽẹêếềểễệóòỏõọôốồổỗộơớờởỡợíìỉĩịúùủũụưứừửữựýỳỷỹỵđ_]',' ',document)\n",
    "    # xóa khoảng trắng thừa\n",
    "    document = re.sub(r'\\s+', ' ', document).strip()\n",
    "    return document\n",
    "\n",
    "text = text_preprocess('<p class=\\\"par\\\">Têu đề bài báo:</p>Có vẻ như Anh Hòa, đang làm gì đó với chị Thúy vậy, có thể là ăn qụyt có phải không?')\n",
    "text"
   ]
  },
  {
   "attachments": {},
   "cell_type": "markdown",
   "metadata": {},
   "source": [
    "#### Loại bỏ stopword"
   ]
  },
  {
   "cell_type": "code",
   "execution_count": 37,
   "metadata": {},
   "outputs": [
    {
     "data": {
      "text/plain": [
       "'têu đề bài_báo có_vẻ_như hoà thuý có_thể_là ăn_quỵt'"
      ]
     },
     "execution_count": 37,
     "metadata": {},
     "output_type": "execute_result"
    }
   ],
   "source": [
    "with open('data/stopwords-nlp-vi.txt', encoding='utf8') as f:\n",
    "    stopword = f.read().replace(' ','_').split('\\n')\n",
    "\n",
    "stopword = set(stopword)\n",
    "\n",
    "def remove_stopwords(line):\n",
    "    words = []\n",
    "    for word in line.strip().split():\n",
    "        if word not in stopword:\n",
    "            words.append(word)\n",
    "    return ' '.join(words)\n",
    "\n",
    "text = remove_stopwords(text)\n",
    "text"
   ]
  },
  {
   "attachments": {},
   "cell_type": "markdown",
   "metadata": {},
   "source": [
    "### Xây dựng mô hình phân loại văn bản"
   ]
  },
  {
   "cell_type": "code",
   "execution_count": 38,
   "metadata": {},
   "outputs": [
    {
     "name": "stdout",
     "output_type": "stream",
     "text": [
      "PyTorch is using GPU.\n",
      "Current GPU device: 0\n",
      "Number of available GPUs: 1\n"
     ]
    }
   ],
   "source": [
    "import torch\n",
    "import torch.nn as nn\n",
    "import torch.optim as optim\n",
    "from torch.utils.data import Dataset, DataLoader\n",
    "\n",
    "if torch.cuda.is_available():\n",
    "    print(\"PyTorch is using GPU.\")\n",
    "    device = torch.device(\"cuda\")  # Chọn GPU làm thiết bị tính toán\n",
    "    print(f\"Current GPU device: {torch.cuda.current_device()}\")\n",
    "    print(f\"Number of available GPUs: {torch.cuda.device_count()}\")\n",
    "else:\n",
    "    print(\"PyTorch is using CPU.\")\n",
    "    device = torch.device(\"cpu\")  # Chọn CPU là thiết bị tính toán\n"
   ]
  },
  {
   "attachments": {},
   "cell_type": "markdown",
   "metadata": {},
   "source": [
    "Trong mô hình phân loại văn bản thì `vocab_size`, `embedding_dim`, `hidden_size`, và `num_classes` là các thông số quan trọng cần được xác định trước khi xây dựng mô hình:\n",
    "\n",
    "1. `vocab_size` là kích thước của từ điển (vocabulary) trong mô hình phân loại văn bản. Nó đại diện cho số lượng từ duy nhất có trong tập dữ liệu huấn luyện. Khi xây dựng mô hình, mỗi từ sẽ được biểu diễn bằng một chỉ số số nguyên từ 0 đến `vocab_size - 1`. `vocab_size` có thể được tính toán tự động bằng cách đếm từ.\n",
    "\n",
    "Để tính toán `vocab_size`, bạn có thể xây dựng từ điển từ các từ trong tập dữ liệu huấn luyện và đếm số lượng từ duy nhất. Một cách đơn giản để làm điều này là sử dụng một bộ đếm từ (word counter) để đếm số lần xuất hiện của mỗi từ trong tập dữ liệu và sau đó lấy độ dài của từ điển để có `vocab_size`.\n",
    "\n",
    "2. `embedding_dim`: Đây là số chiều của không gian nhúng (embedding space) trong mô hình. Trong quá trình huấn luyện, các từ trong từ điển sẽ được biểu diễn bằng các vectơ có kích thước `embedding_dim`. Số chiều này cần được chọn sao cho đủ lớn để mô hình có thể học được các đặc trưng quan trọng của văn bản, nhưng cũng không quá lớn để tránh tăng quá nhiều tham số và tốn thời gian huấn luyện.Thông thường, kích thước không gian nhúng từ 100 đến 300 chiều đã được sử dụng hiệu quả trong nhiều nhiệm vụ phân loại văn bản.\n",
    "\n",
    "3. `hidden_size`: Đây là số lượng đơn vị ẩn trong mạng LSTM (Long Short-Term Memory) hoặc các mạng RNN (Recurrent Neural Network) khác. `hidden_size` ảnh hưởng đến khả năng mô hình học các mẫu dữ liệu phức tạp. Nếu `hidden_size` lớn, mô hình có khả năng học các mẫu phức tạp hơn, nhưng đồng thời tăng cường độ phức tạp của mô hình và thời gian huấn luyện. Giá trị thông thường cho `hidden_size` trong mạng LSTM hoặc RNN là 100, 200 hoặc 300. Tuy nhiên, nếu tập dữ liệu lớn hoặc bài toán phân loại phức tạp hơn, có thể cần tăng giá trị này để mô hình có khả năng học mẫu phức tạp hơn.\n",
    "\n",
    "4. `num_classes`: Đây là số lượng lớp trong bài toán phân loại. Đối với bài toán phân loại văn bản, `num_classes` sẽ là số lượng nhãn khác nhau mà chúng ta muốn mô hình phân loại các văn bản vào. Ví dụ, nếu ta có 3 nhãn: \"positive\", \"negative\", và \"neutral\", thì `num_classes` sẽ là 3.\n",
    "\n",
    "Việc lựa chọn các giá trị tối ưu cho `embedding_dim`, `hidden_size`, và `num_classes` phụ thuộc vào bài toán cụ thể và dữ liệu đang làm việc. Thông thường, các giá trị này được chọn dựa trên kinh nghiệm thực tế và thử nghiệm. Trong quá trình huấn luyện, bạn có thể điều chỉnh các giá trị này và theo dõi hiệu suất của mô hình để tìm ra các giá trị phù hợp nhất."
   ]
  },
  {
   "cell_type": "code",
   "execution_count": 39,
   "metadata": {},
   "outputs": [],
   "source": [
    "def getPreprocessed_text(text):\n",
    "    text = text_preprocess(text)\n",
    "    text = remove_stopwords(text)\n",
    "    return text"
   ]
  },
  {
   "cell_type": "code",
   "execution_count": 40,
   "metadata": {},
   "outputs": [
    {
     "name": "stderr",
     "output_type": "stream",
     "text": [
      "100%|██████████| 33759/33759 [00:07<00:00, 4420.46it/s]\n"
     ]
    }
   ],
   "source": [
    "from tqdm import tqdm\n",
    "# Xử lý dữ liệu train cho chuẩn đã\n",
    "for i in tqdm(range(len(train_data))):\n",
    "    train_data[i][0] = getPreprocessed_text(train_data[i][0])\n",
    "## loại bỏ các dòng trống\n",
    "train_data = [x for x in train_data if x[0] != '']"
   ]
  },
  {
   "cell_type": "code",
   "execution_count": 41,
   "metadata": {},
   "outputs": [
    {
     "name": "stdout",
     "output_type": "stream",
     "text": [
      "{'thương_mại': 81, 'quốc_gia': 82, 'thái_lan': 83, 'du_lịch': 84, 'ngân_hàng': 85, 'gia_đình': 86, 'ảnh': 87, 'phát_triển': 88, 'mua': 89, 'dự_án': 90, 'yêu': 91, 'nam': 92, 'sống': 93, 'ngọc': 94, 'công_bố': 95, 'league': 96, 'chống': 97, 'tiền': 98, 'quản_lý': 99, 'nữ': 100}\n"
     ]
    }
   ],
   "source": [
    "def create_vocab_dict(data):\n",
    "    word_counts = defaultdict(int)\n",
    "    for text, label in data:\n",
    "        for word in text.split():\n",
    "            word_counts[word] += 1\n",
    "\n",
    "    sorted_words = sorted(word_counts.items(), key=lambda x: x[1], reverse=True)\n",
    "    vocab_dict = {}\n",
    "    for i, (word, count) in enumerate(sorted_words):\n",
    "        vocab_dict[word] = i + 1\n",
    "    \n",
    "    vocab_dict['<unk>'] = 0\n",
    "    return vocab_dict\n",
    "\n",
    "vocab_dict = create_vocab_dict(train_data)\n",
    "print(dict(list(vocab_dict.items())[80:100]))"
   ]
  },
  {
   "cell_type": "code",
   "execution_count": 42,
   "metadata": {},
   "outputs": [
    {
     "data": {
      "text/plain": [
       "tensor([ 739,  783,  115,  466,  526,    3,    8,  783, 1681,  673, 6804])"
      ]
     },
     "execution_count": 42,
     "metadata": {},
     "output_type": "execute_result"
    }
   ],
   "source": [
    "def sentence_to_num(sentence, vocab):\n",
    "    tokens = sentence.split()\n",
    "    sentence_indexes = [vocab.get(token, vocab['<unk>']) for token in tokens]\n",
    "    return torch.tensor(sentence_indexes)\n",
    "\n",
    "sentence_to_num(train_data[2][0], vocab_dict)"
   ]
  },
  {
   "cell_type": "code",
   "execution_count": 43,
   "metadata": {},
   "outputs": [
    {
     "name": "stdout",
     "output_type": "stream",
     "text": [
      "31468 10\n"
     ]
    }
   ],
   "source": [
    "vocab_size = len(vocab_dict)\n",
    "embedding_dim = 100\n",
    "hidden_size = 128\n",
    "num_classes = len(labels)\n",
    "\n",
    "print(vocab_size, num_classes)"
   ]
  },
  {
   "cell_type": "code",
   "execution_count": 55,
   "metadata": {},
   "outputs": [],
   "source": [
    "import torch.nn.functional as F\n",
    "# Lớp tập dữ liệu tùy chỉnh\n",
    "class CustomDataset(Dataset):\n",
    "    def __init__(self, data):\n",
    "        self.data = data\n",
    "        \n",
    "    def __getitem__(self, index):\n",
    "        text, label = self.data[index]\n",
    "        x = sentence_to_num(text, vocab_dict)\n",
    "        index = label_dict[label][0]\n",
    "        y = F.one_hot(torch.tensor(index), num_classes=num_classes).float()\n",
    "        return x, y \n",
    "    \n",
    "    def __len__(self):\n",
    "        return len(self.data)    "
   ]
  },
  {
   "cell_type": "code",
   "execution_count": 56,
   "metadata": {},
   "outputs": [],
   "source": [
    "import torch.nn as nn\n",
    "import torch.nn.functional as F\n",
    "\n",
    "class TextClassifier(nn.Module):\n",
    "    def __init__(self, num_classes, vocab_size, embedding_dim, hidden_size):\n",
    "        super(TextClassifier, self).__init__()\n",
    "        self.embedding = nn.Embedding(vocab_size, embedding_dim)\n",
    "        self.lstm = nn.LSTM(embedding_dim, hidden_size, batch_first=True)\n",
    "        self.fc = nn.Linear(hidden_size, num_classes)\n",
    "        \n",
    "    def forward(self, inputs, lengths):\n",
    "        embedded = self.embedding(inputs)\n",
    "        packed_embedded = nn.utils.rnn.pack_padded_sequence(embedded, lengths, batch_first=True, enforce_sorted=False)\n",
    "        packed_output, (h_n, c_n) = self.lstm(packed_embedded)\n",
    "        output, output_lengths = nn.utils.rnn.pad_packed_sequence(packed_output, batch_first=True)\n",
    "        last_output = torch.zeros(output.size(0), output.size(2)).to(inputs.device)\n",
    "        for i in range(len(output)):\n",
    "            last_output[i] = output[i, lengths[i]-1, :]\n",
    "        logits = self.fc(last_output)\n",
    "        return logits"
   ]
  },
  {
   "cell_type": "code",
   "execution_count": 76,
   "metadata": {},
   "outputs": [],
   "source": [
    "# Cấu hình\n",
    "batch_size = 1024\n",
    "epochs = 10\n",
    "learning_rate = 0.001\n",
    "\n",
    "# Chuẩn bị dữ liệu\n",
    "train_dataset = CustomDataset(train_data)\n",
    "test_dataset = CustomDataset(test_data)\n",
    "\n",
    "from torch.nn.utils.rnn import pack_sequence\n",
    "\n",
    "def collate_fn(batch):\n",
    "    # split the batch into inputs and labels\n",
    "    inputs, labels = zip(*batch)\n",
    "\n",
    "    # get the lengths of the inputs\n",
    "    lengths = [len(sample) for sample in inputs]\n",
    "\n",
    "    # convert inputs to a PyTorch tensor\n",
    "    input_tensor = torch.zeros(len(inputs), max(lengths)).long()\n",
    "    for i, sample in enumerate(inputs):\n",
    "        input_tensor[i, :lengths[i]] = sample.clone().detach() # tạo một bản sao của tensor gốc mà không bị tính toán gradient \n",
    "    # convert the labels to a PyTorch tensor\n",
    "    label_tensor = torch.stack(labels)\n",
    "    # return a tuple of the inputs, the lengths, and the labels\n",
    "    return input_tensor, lengths, label_tensor\n",
    "\n",
    "train_loader = DataLoader(train_dataset, batch_size=batch_size, shuffle=True, collate_fn=collate_fn)\n",
    "test_loader = DataLoader(test_dataset, batch_size=batch_size, shuffle=True, collate_fn=collate_fn)\n",
    "\n",
    "# Khởi tạo mô hình và tối ưu hóa\n",
    "model = TextClassifier(num_classes, vocab_size, embedding_dim, hidden_size).to(device)\n",
    "criterion = nn.CrossEntropyLoss()\n",
    "optimizer = optim.Adam(model.parameters(), lr=learning_rate)"
   ]
  },
  {
   "cell_type": "code",
   "execution_count": 70,
   "metadata": {},
   "outputs": [
    {
     "name": "stderr",
     "output_type": "stream",
     "text": [
      "  0%|          | 0/10 [00:00<?, ?it/s]"
     ]
    },
    {
     "name": "stdout",
     "output_type": "stream",
     "text": [
      "tensor([[ 1.0796e+00,  1.6100e+00,  2.6186e+00, -1.6675e+00, -3.0987e-01,\n",
      "          8.1565e+00, -3.5951e+00, -1.0260e+00, -2.1587e+00, -2.2709e+00],\n",
      "        [ 8.2201e-02,  2.3488e+00,  9.2494e-01, -1.3214e+00,  6.6465e-03,\n",
      "          9.5067e-01,  1.3839e-01, -1.5512e+00,  6.3444e-01, -1.2866e+00],\n",
      "        [-1.1364e-01, -1.7151e+00, -1.8525e+00, -1.5963e-01,  8.1785e-01,\n",
      "         -1.3025e+00,  8.1364e+00, -5.7354e-01, -9.9331e-01, -2.4293e+00],\n",
      "        [ 7.6312e-01, -1.1223e+00, -1.8940e+00,  7.5520e+00,  2.7401e-01,\n",
      "         -8.4214e-01,  7.6516e-01, -2.3968e+00, -3.3109e+00, -1.1312e+00],\n",
      "        [ 2.2268e+00,  1.8654e+00, -4.6330e-01, -5.5497e-01,  3.5567e-01,\n",
      "         -1.8464e+00,  8.4601e-01, -1.6857e+00,  1.0288e+00, -2.3483e+00],\n",
      "        [ 1.7744e+00,  4.7123e+00,  2.8100e+00, -4.8091e+00, -1.7862e+00,\n",
      "          2.5302e+00, -1.9719e+00, -4.3456e-01, -1.1047e+00, -2.4398e-01],\n",
      "        [ 2.6183e+00, -1.0535e+00, -1.0495e-01,  2.2214e+00, -1.4542e+00,\n",
      "         -1.1627e+00, -1.9577e+00, -9.8083e-01, -1.6628e+00,  3.0025e+00],\n",
      "        [ 1.8106e+00,  3.2388e+00, -3.0467e-01, -1.1100e+00,  8.3072e-01,\n",
      "          6.1314e-01, -1.6985e+00, -2.4077e-01,  6.5912e-01, -4.2699e+00],\n",
      "        [ 1.4287e+00,  1.9716e-01, -2.3259e+00, -2.9247e-01, -8.8323e-01,\n",
      "         -2.2624e+00, -2.8173e-01,  3.2947e+00,  6.7811e-01, -1.7661e+00],\n",
      "        [ 6.6221e-01, -1.0458e+00,  1.5173e+00,  7.0086e-01, -3.5504e+00,\n",
      "         -1.8622e+00, -7.9178e-02, -4.8742e-01, -1.2071e+00,  7.6119e+00]],\n",
      "       device='cuda:0', grad_fn=<SliceBackward0>) tensor([[0., 0., 0., 0., 0., 1., 0., 0., 0., 0.],\n",
      "        [0., 1., 0., 0., 0., 0., 0., 0., 0., 0.],\n",
      "        [0., 0., 0., 0., 0., 0., 1., 0., 0., 0.],\n",
      "        [0., 0., 0., 1., 0., 0., 0., 0., 0., 0.],\n",
      "        [0., 1., 0., 0., 0., 0., 0., 0., 0., 0.],\n",
      "        [0., 1., 0., 0., 0., 0., 0., 0., 0., 0.],\n",
      "        [0., 0., 0., 0., 0., 0., 0., 0., 0., 1.],\n",
      "        [0., 1., 0., 0., 0., 0., 0., 0., 0., 0.],\n",
      "        [0., 0., 0., 0., 0., 0., 0., 1., 0., 0.],\n",
      "        [0., 0., 0., 0., 0., 0., 0., 0., 0., 1.]], device='cuda:0')\n"
     ]
    },
    {
     "name": "stderr",
     "output_type": "stream",
     "text": [
      "\n"
     ]
    },
    {
     "ename": "ZeroDivisionError",
     "evalue": "division by zero",
     "output_type": "error",
     "traceback": [
      "\u001b[1;31m---------------------------------------------------------------------------\u001b[0m",
      "\u001b[1;31mZeroDivisionError\u001b[0m                         Traceback (most recent call last)",
      "Cell \u001b[1;32mIn[70], line 14\u001b[0m\n\u001b[0;32m     12\u001b[0m loss \u001b[39m=\u001b[39m criterion(outputs, labels)\n\u001b[0;32m     13\u001b[0m \u001b[39mprint\u001b[39m(outputs[:\u001b[39m10\u001b[39m], labels[:\u001b[39m10\u001b[39m])\n\u001b[1;32m---> 14\u001b[0m \u001b[39mprint\u001b[39m(\u001b[39m2\u001b[39;49m\u001b[39m/\u001b[39;49m\u001b[39m0\u001b[39;49m)\n\u001b[0;32m     15\u001b[0m loss\u001b[39m.\u001b[39mbackward()\n\u001b[0;32m     16\u001b[0m optimizer\u001b[39m.\u001b[39mstep()\n",
      "\u001b[1;31mZeroDivisionError\u001b[0m: division by zero"
     ]
    }
   ],
   "source": [
    "# Huấn luyện\n",
    "loss_values = []  # Khởi tạo danh sách để lưu trữ giá trị loss\n",
    "model.train()\n",
    "for epoch in tqdm(range(epochs)):\n",
    "    for inputs, lengths, labels in train_loader:\n",
    "\n",
    "        inputs = inputs.to(device)\n",
    "        labels = labels.to(device)\n",
    "        \n",
    "        optimizer.zero_grad()\n",
    "        outputs = model(inputs, lengths)\n",
    "        loss = criterion(outputs, labels)\n",
    "        print(outputs[:10], labels[:10])\n",
    "        print(2/0)\n",
    "        loss.backward()\n",
    "        optimizer.step()\n",
    "        loss_values.append(loss.item())  # Lưu trữ giá trị loss vào danh sách"
   ]
  },
  {
   "cell_type": "code",
   "execution_count": 63,
   "metadata": {},
   "outputs": [
    {
     "data": {
      "text/plain": [
       "[2.3089218139648438,\n",
       " 2.302140235900879,\n",
       " 2.2954211235046387,\n",
       " 2.297761917114258,\n",
       " 2.2928502559661865,\n",
       " 2.28287935256958,\n",
       " 2.2817718982696533,\n",
       " 2.281327724456787,\n",
       " 2.272714376449585,\n",
       " 2.273893356323242,\n",
       " 2.2639660835266113,\n",
       " 2.264455795288086,\n",
       " 2.26564359664917,\n",
       " 2.2640867233276367,\n",
       " 2.2457265853881836,\n",
       " 2.2533841133117676,\n",
       " 2.2388339042663574,\n",
       " 2.2368836402893066,\n",
       " 2.236914873123169,\n",
       " 2.239877223968506,\n",
       " 2.1974282264709473,\n",
       " 2.2053754329681396,\n",
       " 2.2035186290740967,\n",
       " 2.188065767288208,\n",
       " 2.183345317840576,\n",
       " 2.1660938262939453,\n",
       " 2.1647427082061768,\n",
       " 2.165520191192627,\n",
       " 2.1804354190826416,\n",
       " 2.15387225151062,\n",
       " 2.129424571990967,\n",
       " 2.1084187030792236,\n",
       " 2.123497724533081,\n",
       " 2.1086573600769043,\n",
       " 2.0754001140594482,\n",
       " 2.0661368370056152,\n",
       " 2.0422630310058594,\n",
       " 2.0397610664367676,\n",
       " 2.0289711952209473,\n",
       " 2.02254056930542,\n",
       " 1.9907013177871704,\n",
       " 1.9858434200286865,\n",
       " 1.9804165363311768,\n",
       " 2.011073589324951,\n",
       " 1.9629617929458618,\n",
       " 1.920053243637085,\n",
       " 1.9535374641418457,\n",
       " 1.9458069801330566,\n",
       " 1.914687991142273,\n",
       " 1.919567584991455,\n",
       " 1.8800617456436157,\n",
       " 1.9168344736099243,\n",
       " 1.9065356254577637,\n",
       " 1.8434970378875732,\n",
       " 1.9021623134613037,\n",
       " 1.8579357862472534,\n",
       " 1.9255222082138062,\n",
       " 1.8156055212020874,\n",
       " 1.890976905822754,\n",
       " 1.8315588235855103,\n",
       " 1.8509173393249512,\n",
       " 1.8259106874465942,\n",
       " 1.810246229171753,\n",
       " 1.7967660427093506,\n",
       " 1.7929296493530273,\n",
       " 1.7062329053878784,\n",
       " 1.7557529211044312,\n",
       " 1.6828062534332275,\n",
       " 1.6860475540161133,\n",
       " 1.6869535446166992,\n",
       " 1.6751556396484375,\n",
       " 1.7294739484786987,\n",
       " 1.6334033012390137,\n",
       " 1.599291443824768,\n",
       " 1.602083683013916,\n",
       " 1.6462938785552979,\n",
       " 1.622140645980835,\n",
       " 1.5936880111694336,\n",
       " 1.6187249422073364,\n",
       " 1.6034960746765137,\n",
       " 1.557852029800415,\n",
       " 1.5829567909240723,\n",
       " 1.561375379562378,\n",
       " 1.4842077493667603,\n",
       " 1.5763792991638184,\n",
       " 1.5405832529067993,\n",
       " 1.4742677211761475,\n",
       " 1.4992274045944214,\n",
       " 1.514054775238037,\n",
       " 1.5000524520874023,\n",
       " 1.4729137420654297,\n",
       " 1.5131336450576782,\n",
       " 1.4875576496124268,\n",
       " 1.4953131675720215,\n",
       " 1.4322946071624756,\n",
       " 1.3961573839187622,\n",
       " 1.455244779586792,\n",
       " 1.4006248712539673,\n",
       " 1.4054863452911377,\n",
       " 1.3833469152450562,\n",
       " 1.334215760231018,\n",
       " 1.3207911252975464,\n",
       " 1.3259541988372803,\n",
       " 1.2571990489959717,\n",
       " 1.307154655456543,\n",
       " 1.2816249132156372,\n",
       " 1.2732737064361572,\n",
       " 1.2548587322235107,\n",
       " 1.3040555715560913,\n",
       " 1.2459313869476318,\n",
       " 1.2182308435440063,\n",
       " 1.245107889175415,\n",
       " 1.280303716659546,\n",
       " 1.2474334239959717,\n",
       " 1.222619891166687,\n",
       " 1.2158031463623047,\n",
       " 1.2032935619354248,\n",
       " 1.2227158546447754,\n",
       " 1.1816850900650024,\n",
       " 1.1673288345336914,\n",
       " 1.1777369976043701,\n",
       " 1.1969220638275146,\n",
       " 1.190643310546875,\n",
       " 1.1715564727783203,\n",
       " 1.1581847667694092,\n",
       " 1.2005693912506104,\n",
       " 1.1898961067199707,\n",
       " 1.1952955722808838,\n",
       " 1.179675817489624,\n",
       " 1.0926060676574707,\n",
       " 1.069685935974121,\n",
       " 1.1286170482635498,\n",
       " 1.0029114484786987,\n",
       " 1.0737299919128418,\n",
       " 1.061143398284912,\n",
       " 1.0470030307769775,\n",
       " 1.0248939990997314,\n",
       " 0.9942176342010498,\n",
       " 1.035592794418335,\n",
       " 1.015365719795227,\n",
       " 1.0424524545669556,\n",
       " 1.014615535736084,\n",
       " 1.011674404144287,\n",
       " 1.0060358047485352,\n",
       " 1.0189181566238403,\n",
       " 0.9794977903366089,\n",
       " 0.9468939900398254,\n",
       " 0.972709059715271,\n",
       " 0.9983830451965332,\n",
       " 0.9840623140335083,\n",
       " 0.962570309638977,\n",
       " 0.9251526594161987,\n",
       " 0.9336109757423401,\n",
       " 0.9884530305862427,\n",
       " 0.9847884178161621,\n",
       " 0.993490993976593,\n",
       " 0.9627336859703064,\n",
       " 0.9956699013710022,\n",
       " 0.953876256942749,\n",
       " 0.9418684244155884,\n",
       " 0.9577377438545227,\n",
       " 0.9249778389930725,\n",
       " 0.9743419289588928,\n",
       " 0.9682035446166992,\n",
       " 0.9221854209899902,\n",
       " 0.8318818807601929,\n",
       " 0.893742561340332,\n",
       " 0.8271381258964539,\n",
       " 0.8368455767631531,\n",
       " 0.8530879020690918,\n",
       " 0.8994678258895874,\n",
       " 0.8669496774673462,\n",
       " 0.8321715593338013,\n",
       " 0.8348284959793091,\n",
       " 0.8120125532150269,\n",
       " 0.8364272117614746,\n",
       " 0.7955823540687561,\n",
       " 0.7916597127914429,\n",
       " 0.8192200660705566,\n",
       " 0.8801239728927612,\n",
       " 0.7841899991035461,\n",
       " 0.8072283267974854,\n",
       " 0.7817856669425964,\n",
       " 0.8277392983436584,\n",
       " 0.782351016998291,\n",
       " 0.8840292692184448,\n",
       " 0.7835918664932251,\n",
       " 0.8205052614212036,\n",
       " 0.7800034284591675,\n",
       " 0.7946904897689819,\n",
       " 0.7828322649002075,\n",
       " 0.822400689125061,\n",
       " 0.8087705373764038,\n",
       " 0.8133065700531006,\n",
       " 0.7865244150161743,\n",
       " 0.7972609400749207,\n",
       " 0.7933503985404968,\n",
       " 0.8075277209281921,\n",
       " 0.7461729645729065,\n",
       " 0.7089130282402039,\n",
       " 0.6963644027709961,\n",
       " 0.6696772575378418,\n",
       " 0.6711351275444031,\n",
       " 0.6958873271942139,\n",
       " 0.634705126285553,\n",
       " 0.6984566450119019,\n",
       " 0.6855566501617432,\n",
       " 0.6618799567222595,\n",
       " 0.6721837520599365,\n",
       " 0.7340273261070251,\n",
       " 0.7113680839538574,\n",
       " 0.655593752861023,\n",
       " 0.680450975894928,\n",
       " 0.7333682179450989,\n",
       " 0.6774760484695435,\n",
       " 0.6428549289703369,\n",
       " 0.7180967330932617,\n",
       " 0.6752678155899048,\n",
       " 0.6742144823074341,\n",
       " 0.6737711429595947,\n",
       " 0.6776114106178284,\n",
       " 0.7125241756439209,\n",
       " 0.6714536547660828,\n",
       " 0.6774284839630127,\n",
       " 0.6767773032188416,\n",
       " 0.6963388919830322,\n",
       " 0.69682377576828,\n",
       " 0.7092187404632568,\n",
       " 0.6795514822006226,\n",
       " 0.7114991545677185,\n",
       " 0.7155727744102478,\n",
       " 0.6016088724136353,\n",
       " 0.6000078916549683,\n",
       " 0.593649685382843,\n",
       " 0.5595035552978516,\n",
       " 0.563212513923645,\n",
       " 0.6069334745407104,\n",
       " 0.6144262552261353,\n",
       " 0.5910687446594238,\n",
       " 0.5626276731491089,\n",
       " 0.6019158363342285,\n",
       " 0.6060372591018677,\n",
       " 0.5748547315597534,\n",
       " 0.6187454462051392,\n",
       " 0.6013830304145813,\n",
       " 0.5558575391769409,\n",
       " 0.5951046347618103,\n",
       " 0.5952473282814026,\n",
       " 0.6418248414993286,\n",
       " 0.5967087745666504,\n",
       " 0.5663509368896484,\n",
       " 0.545612633228302,\n",
       " 0.5784057378768921,\n",
       " 0.5616006851196289,\n",
       " 0.6116288900375366,\n",
       " 0.6126095056533813,\n",
       " 0.544996440410614,\n",
       " 0.5776681900024414,\n",
       " 0.5655405521392822,\n",
       " 0.5736660957336426,\n",
       " 0.5475087761878967,\n",
       " 0.5466657876968384,\n",
       " 0.5480002164840698,\n",
       " 0.5562317967414856,\n",
       " 0.5314967036247253,\n",
       " 0.48676615953445435,\n",
       " 0.5165120959281921,\n",
       " 0.5050469636917114,\n",
       " 0.4700673222541809,\n",
       " 0.48206740617752075,\n",
       " 0.5295412540435791,\n",
       " 0.4780275225639343,\n",
       " 0.468258261680603,\n",
       " 0.49766093492507935,\n",
       " 0.4975735545158386,\n",
       " 0.5201475024223328,\n",
       " 0.46956774592399597,\n",
       " 0.4776855409145355,\n",
       " 0.4809172749519348,\n",
       " 0.47329282760620117,\n",
       " 0.4684506058692932,\n",
       " 0.4463315010070801,\n",
       " 0.4926140606403351,\n",
       " 0.45275259017944336,\n",
       " 0.4833809733390808,\n",
       " 0.506471574306488,\n",
       " 0.5497829914093018,\n",
       " 0.4881901443004608,\n",
       " 0.4804101884365082,\n",
       " 0.4700159430503845,\n",
       " 0.49346548318862915,\n",
       " 0.49861323833465576,\n",
       " 0.5128744840621948,\n",
       " 0.5122978687286377,\n",
       " 0.46773308515548706,\n",
       " 0.4577064514160156,\n",
       " 0.5041359066963196,\n",
       " 0.43207353353500366,\n",
       " 0.4348817765712738,\n",
       " 0.4016880989074707,\n",
       " 0.41234493255615234,\n",
       " 0.44861364364624023,\n",
       " 0.4095724821090698,\n",
       " 0.39394456148147583,\n",
       " 0.44194942712783813,\n",
       " 0.4382249414920807,\n",
       " 0.3819042146205902,\n",
       " 0.3853416442871094,\n",
       " 0.41313621401786804,\n",
       " 0.4005112648010254,\n",
       " 0.3881645202636719,\n",
       " 0.42025840282440186,\n",
       " 0.4276244044303894,\n",
       " 0.41014158725738525,\n",
       " 0.38413864374160767,\n",
       " 0.42297443747520447,\n",
       " 0.409446120262146,\n",
       " 0.4048706591129303,\n",
       " 0.3754369914531708,\n",
       " 0.4425317049026489,\n",
       " 0.39845556020736694,\n",
       " 0.41923511028289795,\n",
       " 0.4375505745410919,\n",
       " 0.3980880379676819,\n",
       " 0.4122964143753052,\n",
       " 0.4025035798549652,\n",
       " 0.4305703043937683,\n",
       " 0.414992094039917,\n",
       " 0.3965725600719452,\n",
       " 0.4032607972621918]"
      ]
     },
     "execution_count": 63,
     "metadata": {},
     "output_type": "execute_result"
    }
   ],
   "source": [
    "loss_values"
   ]
  },
  {
   "cell_type": "code",
   "execution_count": null,
   "metadata": {},
   "outputs": [],
   "source": [
    "# import matplotlib.pyplot as plt\n",
    "# plt.plot(loss_values)  # Vẽ đồ thị loss\n",
    "# plt.xlabel('Iteration')\n",
    "# plt.ylabel('Loss')\n",
    "# plt.show()"
   ]
  },
  {
   "cell_type": "code",
   "execution_count": 78,
   "metadata": {},
   "outputs": [
    {
     "name": "stdout",
     "output_type": "stream",
     "text": [
      "1024 1024\n",
      "tensor([4, 6, 0, 9, 9, 6, 0, 1, 8, 9], device='cuda:0') tensor([2, 2, 2, 9, 2, 2, 2, 2, 2, 2], device='cuda:0')\n"
     ]
    },
    {
     "ename": "ZeroDivisionError",
     "evalue": "division by zero",
     "output_type": "error",
     "traceback": [
      "\u001b[1;31m---------------------------------------------------------------------------\u001b[0m",
      "\u001b[1;31mZeroDivisionError\u001b[0m                         Traceback (most recent call last)",
      "Cell \u001b[1;32mIn[78], line 20\u001b[0m\n\u001b[0;32m     18\u001b[0m     correct \u001b[39m+\u001b[39m\u001b[39m=\u001b[39m (predicted \u001b[39m==\u001b[39m lslabels)\u001b[39m.\u001b[39msum()\u001b[39m.\u001b[39mitem()\n\u001b[0;32m     19\u001b[0m     \u001b[39m# print(f\"Correct: {correct}, Total: {total} - {predicted[:10]} == {lslabels[:10]} || {outputs[:10]}\\r\", end='')\u001b[39;00m\n\u001b[1;32m---> 20\u001b[0m     \u001b[39mprint\u001b[39m(\u001b[39m2\u001b[39;49m\u001b[39m/\u001b[39;49m\u001b[39m0\u001b[39;49m)\n\u001b[0;32m     22\u001b[0m accuracy \u001b[39m=\u001b[39m \u001b[39m100\u001b[39m \u001b[39m*\u001b[39m correct \u001b[39m/\u001b[39m total\n\u001b[0;32m     23\u001b[0m \u001b[39mprint\u001b[39m(\u001b[39mf\u001b[39m\u001b[39m\"\u001b[39m\u001b[39mAccuracy: \u001b[39m\u001b[39m{\u001b[39;00maccuracy\u001b[39m}\u001b[39;00m\u001b[39m%\u001b[39m\u001b[39m\"\u001b[39m)\n",
      "\u001b[1;31mZeroDivisionError\u001b[0m: division by zero"
     ]
    }
   ],
   "source": [
    "# Đánh giá mô hình\n",
    "model.eval()\n",
    "with torch.no_grad():\n",
    "    correct = 0\n",
    "    total = 0\n",
    "    for inputs, lengths, labels in test_loader:\n",
    "        \n",
    "        inputs = inputs.to(device)\n",
    "        labels = labels.to(device)\n",
    "        outputs = model(inputs, lengths)\n",
    "        _, predicted = torch.max(outputs.data, 1)\n",
    "        _, lslabels = torch.max(labels, 1)\n",
    "        \n",
    "        print(len(lslabels), len(predicted))        \n",
    "        # print(labels[:10], outputs.data[:10])\n",
    "        print(lslabels[:10], predicted[:10])\n",
    "        total += lslabels.size(0)\n",
    "        correct += (predicted == lslabels).sum().item()\n",
    "        # print(f\"Correct: {correct}, Total: {total} - {predicted[:10]} == {lslabels[:10]} || {outputs[:10]}\\r\", end='')\n",
    "        print(2/0)\n",
    "    \n",
    "    accuracy = 100 * correct / total\n",
    "    print(f\"Accuracy: {accuracy}%\")"
   ]
  },
  {
   "cell_type": "code",
   "execution_count": 81,
   "metadata": {},
   "outputs": [
    {
     "data": {
      "text/plain": [
       "56"
      ]
     },
     "execution_count": 81,
     "metadata": {},
     "output_type": "execute_result"
    }
   ],
   "source": []
  },
  {
   "attachments": {},
   "cell_type": "markdown",
   "metadata": {},
   "source": [
    "#### Xây dựng tập dữ liệu huấn luyện và kiểm thử"
   ]
  },
  {
   "attachments": {},
   "cell_type": "markdown",
   "metadata": {},
   "source": [
    "#### Xây dựng mô hình phân loại"
   ]
  },
  {
   "attachments": {},
   "cell_type": "markdown",
   "metadata": {},
   "source": [
    "### Đánh giá mô hình phân loại văn bản"
   ]
  },
  {
   "attachments": {},
   "cell_type": "markdown",
   "metadata": {},
   "source": [
    "### Tài liệu tham khảo"
   ]
  },
  {
   "cell_type": "code",
   "execution_count": null,
   "metadata": {},
   "outputs": [],
   "source": []
  }
 ],
 "metadata": {
  "kernelspec": {
   "display_name": "OpenCV",
   "language": "python",
   "name": "python3"
  },
  "language_info": {
   "codemirror_mode": {
    "name": "ipython",
    "version": 3
   },
   "file_extension": ".py",
   "mimetype": "text/x-python",
   "name": "python",
   "nbconvert_exporter": "python",
   "pygments_lexer": "ipython3",
   "version": "3.9.16"
  },
  "orig_nbformat": 4
 },
 "nbformat": 4,
 "nbformat_minor": 2
}
